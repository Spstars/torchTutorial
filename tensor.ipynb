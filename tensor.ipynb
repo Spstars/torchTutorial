{
 "cells": [
  {
   "cell_type": "code",
   "execution_count": 2,
   "metadata": {},
   "outputs": [
    {
     "name": "stdout",
     "output_type": "stream",
     "text": [
      "Collecting numpyNote: you may need to restart the kernel to use updated packages.\n",
      "\n",
      "  Downloading numpy-1.26.4-cp312-cp312-win_amd64.whl.metadata (61 kB)\n",
      "     ---------------------------------------- 0.0/61.0 kB ? eta -:--:--\n",
      "     ------------------------- ------------ 41.0/61.0 kB 991.0 kB/s eta 0:00:01\n",
      "     ---------------------------------------- 61.0/61.0 kB 1.1 MB/s eta 0:00:00\n",
      "Downloading numpy-1.26.4-cp312-cp312-win_amd64.whl (15.5 MB)\n",
      "   ---------------------------------------- 0.0/15.5 MB ? eta -:--:--\n",
      "    --------------------------------------- 0.3/15.5 MB 7.0 MB/s eta 0:00:03\n",
      "   -- ------------------------------------- 0.8/15.5 MB 8.8 MB/s eta 0:00:02\n",
      "   --- ------------------------------------ 1.4/15.5 MB 9.7 MB/s eta 0:00:02\n",
      "   ---- ----------------------------------- 1.9/15.5 MB 10.0 MB/s eta 0:00:02\n",
      "   ----- ---------------------------------- 2.3/15.5 MB 9.7 MB/s eta 0:00:02\n",
      "   ------ --------------------------------- 2.4/15.5 MB 8.6 MB/s eta 0:00:02\n",
      "   ------- -------------------------------- 3.0/15.5 MB 9.5 MB/s eta 0:00:02\n",
      "   --------- ------------------------------ 3.5/15.5 MB 9.7 MB/s eta 0:00:02\n",
      "   ---------- ----------------------------- 4.0/15.5 MB 9.9 MB/s eta 0:00:02\n",
      "   ---------- ----------------------------- 4.2/15.5 MB 9.9 MB/s eta 0:00:02\n",
      "   ---------- ----------------------------- 4.2/15.5 MB 9.9 MB/s eta 0:00:02\n",
      "   ---------- ----------------------------- 4.2/15.5 MB 9.9 MB/s eta 0:00:02\n",
      "   ------------ --------------------------- 4.7/15.5 MB 7.8 MB/s eta 0:00:02\n",
      "   ------------- -------------------------- 5.2/15.5 MB 8.1 MB/s eta 0:00:02\n",
      "   -------------- ------------------------- 5.7/15.5 MB 8.3 MB/s eta 0:00:02\n",
      "   ---------------- ----------------------- 6.3/15.5 MB 8.5 MB/s eta 0:00:02\n",
      "   ----------------- ---------------------- 6.8/15.5 MB 8.7 MB/s eta 0:00:02\n",
      "   ------------------ --------------------- 7.3/15.5 MB 8.8 MB/s eta 0:00:01\n",
      "   -------------------- ------------------- 7.8/15.5 MB 8.9 MB/s eta 0:00:01\n",
      "   --------------------- ------------------ 8.4/15.5 MB 9.1 MB/s eta 0:00:01\n",
      "   ---------------------- ----------------- 8.9/15.5 MB 9.2 MB/s eta 0:00:01\n",
      "   ------------------------ --------------- 9.4/15.5 MB 9.3 MB/s eta 0:00:01\n",
      "   ------------------------- -------------- 10.0/15.5 MB 9.4 MB/s eta 0:00:01\n",
      "   --------------------------- ------------ 10.5/15.5 MB 9.5 MB/s eta 0:00:01\n",
      "   ---------------------------- ----------- 11.0/15.5 MB 9.6 MB/s eta 0:00:01\n",
      "   ----------------------------- ---------- 11.6/15.5 MB 9.6 MB/s eta 0:00:01\n",
      "   ------------------------------ --------- 11.9/15.5 MB 9.5 MB/s eta 0:00:01\n",
      "   -------------------------------- ------- 12.5/15.5 MB 9.8 MB/s eta 0:00:01\n",
      "   -------------------------------- ------- 12.6/15.5 MB 9.9 MB/s eta 0:00:01\n",
      "   -------------------------------- ------- 12.6/15.5 MB 9.9 MB/s eta 0:00:01\n",
      "   -------------------------------- ------- 12.6/15.5 MB 9.9 MB/s eta 0:00:01\n",
      "   --------------------------------- ------ 12.9/15.5 MB 8.7 MB/s eta 0:00:01\n",
      "   ---------------------------------- ----- 13.3/15.5 MB 8.6 MB/s eta 0:00:01\n",
      "   ----------------------------------- ---- 13.9/15.5 MB 8.6 MB/s eta 0:00:01\n",
      "   ------------------------------------- -- 14.4/15.5 MB 8.6 MB/s eta 0:00:01\n",
      "   -------------------------------------- - 14.9/15.5 MB 9.6 MB/s eta 0:00:01\n",
      "   ---------------------------------------  15.3/15.5 MB 9.5 MB/s eta 0:00:01\n",
      "   ---------------------------------------  15.5/15.5 MB 9.6 MB/s eta 0:00:01\n",
      "   ---------------------------------------- 15.5/15.5 MB 9.1 MB/s eta 0:00:00\n",
      "Installing collected packages: numpy\n",
      "Successfully installed numpy-1.26.4\n"
     ]
    }
   ],
   "source": [
    "%pip install numpy"
   ]
  },
  {
   "cell_type": "code",
   "execution_count": 1,
   "metadata": {},
   "outputs": [
    {
     "name": "stdout",
     "output_type": "stream",
     "text": [
      "tensor([[1, 2],\n",
      "        [3, 4]])\n",
      "tensor([[1, 2],\n",
      "        [3, 4]], dtype=torch.int32)\n"
     ]
    }
   ],
   "source": [
    "import torch\n",
    "import numpy as np \n",
    "\n",
    "#torch from list and numpy\n",
    "\n",
    "data= [[1,2],[3,4]]\n",
    "x_data = torch.tensor(data)\n",
    "print(x_data)\n",
    "np_data = np.array(data)\n",
    "x_np = torch.from_numpy(np_data)\n",
    "print(x_np)\n"
   ]
  },
  {
   "cell_type": "code",
   "execution_count": 3,
   "metadata": {},
   "outputs": [
    {
     "name": "stdout",
     "output_type": "stream",
     "text": [
      "Random T : \n",
      " tensor([[0.5487, 0.5626, 0.7856],\n",
      "        [0.8320, 0.3870, 0.8854]]) \n",
      "\n",
      "one_tensor  : \n",
      " tensor([[1., 1., 1.],\n",
      "        [1., 1., 1.]]) \n",
      "\n",
      "zero_tensor : \n",
      " tensor([[0., 0., 0.],\n",
      "        [0., 0., 0.]]) \n",
      "\n",
      "torch.Size([2, 3])\n",
      "torch.float32\n",
      "cpu\n"
     ]
    }
   ],
   "source": [
    "#torch and initialize and info\n",
    "\n",
    "shape = (2,3,)\n",
    "rand_tensor = torch.rand(shape)\n",
    "one_tensor = torch.ones(shape)\n",
    "zero_tensor = torch.zeros(shape)\n",
    "\n",
    "print(f\"Random T : \\n {rand_tensor} \\n\")\n",
    "print(f\"one_tensor  : \\n {one_tensor} \\n\")\n",
    "print(f\"zero_tensor : \\n {zero_tensor} \\n\")\n",
    "\n",
    "print(rand_tensor.shape)\n",
    "print(rand_tensor.dtype)\n",
    "print(rand_tensor.device)\n",
    "\n",
    "if(torch.cuda.is_available()):\n",
    "    print(\"torch available\")\n"
   ]
  },
  {
   "cell_type": "code",
   "execution_count": 9,
   "metadata": {},
   "outputs": [
    {
     "name": "stdout",
     "output_type": "stream",
     "text": [
      "first row:  tensor([1., 1., 1., 1.])\n",
      "first col:  tensor([1., 1., 1., 1.])\n",
      "last col:  tensor([1., 1., 1., 1.])\n",
      "tensor([[1., 0., 1., 1.],\n",
      "        [1., 0., 1., 1.],\n",
      "        [1., 0., 1., 1.],\n",
      "        [1., 0., 1., 1.]])\n",
      "tensor([[1., 0., 1., 1.],\n",
      "        [1., 0., 1., 1.],\n",
      "        [1., 0., 1., 1.],\n",
      "        [1., 0., 1., 1.],\n",
      "        [1., 0., 1., 1.],\n",
      "        [1., 0., 1., 1.],\n",
      "        [1., 0., 1., 1.],\n",
      "        [1., 0., 1., 1.],\n",
      "        [1., 0., 1., 1.],\n",
      "        [1., 0., 1., 1.],\n",
      "        [1., 0., 1., 1.],\n",
      "        [1., 0., 1., 1.]])\n",
      "y1 : tensor([[3., 3., 3., 3.],\n",
      "        [3., 3., 3., 3.],\n",
      "        [3., 3., 3., 3.],\n",
      "        [3., 3., 3., 3.]])\n",
      " y2 : tensor([[3., 3., 3., 3.],\n",
      "        [3., 3., 3., 3.],\n",
      "        [3., 3., 3., 3.],\n",
      "        [3., 3., 3., 3.]])\n",
      " y3 : tensor([[3., 3., 3., 3.],\n",
      "        [3., 3., 3., 3.],\n",
      "        [3., 3., 3., 3.],\n",
      "        [3., 3., 3., 3.]])\n",
      "\n",
      "y1 : tensor([[1., 0., 1., 1.],\n",
      "        [1., 0., 1., 1.],\n",
      "        [1., 0., 1., 1.],\n",
      "        [1., 0., 1., 1.]])\n",
      " y2 : tensor([[1., 0., 1., 1.],\n",
      "        [0., 0., 0., 0.],\n",
      "        [1., 0., 1., 1.],\n",
      "        [1., 0., 1., 1.]])\n",
      " y3 : tensor([[1., 0., 1., 1.],\n",
      "        [0., 0., 0., 0.],\n",
      "        [1., 0., 1., 1.],\n",
      "        [1., 0., 1., 1.]])\n",
      "\n"
     ]
    }
   ],
   "source": [
    "#tensor and slicing and spread\n",
    "\n",
    "tensor = torch.ones(4,4)\n",
    "print('first row: ',tensor[0])\n",
    "print('first col: ',tensor[:,0])\n",
    "print('last col: ',tensor[...,-1])\n",
    "\n",
    "tensor[:,1]=0\n",
    "print(tensor)\n",
    "#cat tensors\n",
    "t1 = torch.cat([tensor,tensor,tensor])\n",
    "print(t1)\n",
    "\n",
    "\n",
    "# tensor ops\n",
    "#행렬곱\n",
    "y1 = tensor @ tensor.T\n",
    "y2 = tensor.matmul(tensor.T)\n",
    "y3 = torch.rand_like(tensor)\n",
    "torch.matmul(tensor,tensor.T,out=y3)\n",
    "print(f\"y1 : {y1}\\n y2 : {y2}\\n y3 : {y3}\\n\")\n",
    "#elementwise 곱\n",
    "y1 = tensor * tensor\n",
    "y2 = tensor.mul(tensor.T)\n",
    "y3 = torch.rand_like(tensor)\n",
    "torch.mul(tensor,tensor.T,out=y3)\n",
    "print(f\"y1 : {y1}\\n y2 : {y2}\\n y3 : {y3}\\n\")\n"
   ]
  },
  {
   "cell_type": "code",
   "execution_count": 14,
   "metadata": {},
   "outputs": [
    {
     "name": "stdout",
     "output_type": "stream",
     "text": [
      "92.0 tensor(92.)\n",
      "tensor([[11., 10., 11., 11.],\n",
      "        [11., 10., 11., 11.],\n",
      "        [11., 10., 11., 11.],\n",
      "        [11., 10., 11., 11.]])\n",
      "t: tensor([2., 2., 2., 2., 2.], dtype=torch.float64)\n",
      "n: [2. 2. 2. 2. 2.]\n"
     ]
    }
   ],
   "source": [
    "agg = tensor.sum()\n",
    "agg_item = agg.item()\n",
    "print(agg_item,agg)\n",
    "\n",
    "print(tensor.add_(5))\n",
    "\n",
    "n = np.ones(5)\n",
    "t = torch.from_numpy(n)\n",
    "\n",
    "np.add(n, 1, out=n)\n",
    "print(f\"t: {t}\")\n",
    "print(f\"n: {n}\")\n"
   ]
  },
  {
   "cell_type": "code",
   "execution_count": 2,
   "metadata": {},
   "outputs": [
    {
     "name": "stdout",
     "output_type": "stream",
     "text": [
      "tensor([[0., 0., 0., 0.],\n",
      "        [0., 0., 0., 0.],\n",
      "        [0., 0., 0., 0.]]) tensor([[0., 0., 0., 0.],\n",
      "        [0., 0., 0., 0.],\n",
      "        [0., 0., 0., 0.]])\n",
      "tensor([[1, 1, 1],\n",
      "        [1, 1, 1]], dtype=torch.int16)\n"
     ]
    }
   ],
   "source": [
    "import torch\n",
    "#0을 할당\n",
    "zeros = torch.zeros(3,4)\n",
    "#그냥 비워둠 출력하면 그자리에 있던 값 나옴\n",
    "empty = torch.empty(3,4)\n",
    "print(zeros,empty)\n",
    "\n",
    "torch.rand(3,4)\n",
    "\n",
    "a = torch.ones((2, 3), dtype=torch.int16)\n",
    "print(a)\n"
   ]
  }
 ],
 "metadata": {
  "kernelspec": {
   "display_name": "Python 3",
   "language": "python",
   "name": "python3"
  },
  "language_info": {
   "codemirror_mode": {
    "name": "ipython",
    "version": 3
   },
   "file_extension": ".py",
   "mimetype": "text/x-python",
   "name": "python",
   "nbconvert_exporter": "python",
   "pygments_lexer": "ipython3",
   "version": "3.12.2"
  }
 },
 "nbformat": 4,
 "nbformat_minor": 2
}

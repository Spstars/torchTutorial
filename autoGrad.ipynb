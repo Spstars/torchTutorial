{
 "cells": [
  {
   "cell_type": "code",
   "execution_count": 4,
   "metadata": {},
   "outputs": [
    {
     "name": "stdout",
     "output_type": "stream",
     "text": [
      "True\n",
      "tensor([-1.6333,  1.4818,  0.5686], grad_fn=<AddBackward0>) tensor([0., 0., 0.])\n",
      "tensor(0.9608, grad_fn=<BinaryCrossEntropyWithLogitsBackward0>)\n"
     ]
    }
   ],
   "source": [
    "import torch \n",
    "print(torch.cuda.is_available())\n",
    "x= torch.ones(5)\n",
    "#start\n",
    "y= torch.zeros(3)\n",
    "w = torch.randn(5,3,requires_grad = True)\n",
    "#bias\n",
    "b= torch.randn(3,requires_grad=True)\n",
    "z= torch.matmul(x,w)+b\n",
    "\n",
    "loss = torch.nn.functional.binary_cross_entropy_with_logits(z,y)\n",
    "print(z,y)\n",
    "print(loss)"
   ]
  },
  {
   "cell_type": "code",
   "execution_count": 2,
   "metadata": {},
   "outputs": [
    {
     "name": "stdout",
     "output_type": "stream",
     "text": [
      "None\n",
      "None\n",
      "tensor([[0.2822, 0.0213, 0.2398],\n",
      "        [0.2822, 0.0213, 0.2398],\n",
      "        [0.2822, 0.0213, 0.2398],\n",
      "        [0.2822, 0.0213, 0.2398],\n",
      "        [0.2822, 0.0213, 0.2398]])\n",
      "tensor([0.2822, 0.0213, 0.2398])\n"
     ]
    }
   ],
   "source": [
    "print(w.grad)\n",
    "print(b.grad)\n",
    "loss.backward(retain_graph=True)\n",
    "print(w.grad)\n",
    "print(b.grad)"
   ]
  },
  {
   "cell_type": "code",
   "execution_count": 3,
   "metadata": {},
   "outputs": [
    {
     "name": "stdout",
     "output_type": "stream",
     "text": [
      "True\n",
      "False\n"
     ]
    }
   ],
   "source": [
    "z= torch.matmul(x,w)+b\n",
    "print(z.requires_grad)\n",
    "\n",
    "with torch.no_grad():\n",
    "    z= torch.matmul(x,w)+b\n",
    "    print(z.requires_grad)"
   ]
  },
  {
   "cell_type": "code",
   "execution_count": null,
   "metadata": {},
   "outputs": [],
   "source": [
    "\n"
   ]
  }
 ],
 "metadata": {
  "kernelspec": {
   "display_name": "Python 3",
   "language": "python",
   "name": "python3"
  },
  "language_info": {
   "codemirror_mode": {
    "name": "ipython",
    "version": 3
   },
   "file_extension": ".py",
   "mimetype": "text/x-python",
   "name": "python",
   "nbconvert_exporter": "python",
   "pygments_lexer": "ipython3",
   "version": "3.12.2"
  }
 },
 "nbformat": 4,
 "nbformat_minor": 2
}
